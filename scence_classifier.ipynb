{
 "cells": [
  {
   "cell_type": "code",
   "execution_count": 4,
   "id": "6c51396f-6a93-48d7-8a67-52ccc52f76d8",
   "metadata": {
    "tags": []
   },
   "outputs": [],
   "source": [
    "import torch\n",
    "from torchvision import datasets, transforms"
   ]
  },
  {
   "cell_type": "code",
   "execution_count": null,
   "id": "72c6f695-2e79-4662-887c-546a0be86960",
   "metadata": {
    "tags": []
   },
   "outputs": [
    {
     "name": "stdout",
     "output_type": "stream",
     "text": [
      "Downloading https://data.csail.mit.edu/places/places365/filelist_places365-standard.tar to ./data/Place365/filelist_places365-standard.tar\n"
     ]
    },
    {
     "name": "stderr",
     "output_type": "stream",
     "text": [
      "100%|██████████| 67498496/67498496 [00:01<00:00, 33949604.14it/s]\n"
     ]
    },
    {
     "name": "stdout",
     "output_type": "stream",
     "text": [
      "Extracting ./data/Place365/filelist_places365-standard.tar to ./data/Place365\n",
      "Downloading https://data.csail.mit.edu/places/places365/train_large_places365standard.tar to ./data/Place365/train_large_places365standard.tar\n"
     ]
    },
    {
     "name": "stderr",
     "output_type": "stream",
     "text": [
      " 49%|████▉     | 55375265792/112598435840 [23:00<22:50, 41767745.90it/s]  "
     ]
    }
   ],
   "source": [
    "#Download Place365 dataset.\n",
    "path = './data/Place365'\n",
    "trainingSet = datasets.Places365(path, split='train-standard', download=True)\n",
    "validationSet = datasets.Places365(path, split='val', download=True)"
   ]
  },
  {
   "cell_type": "code",
   "execution_count": null,
   "id": "be68231e-f6c3-486e-8b7e-121acd29a374",
   "metadata": {},
   "outputs": [],
   "source": []
  }
 ],
 "metadata": {
  "environment": {
   "kernel": "conda-root-py",
   "name": "workbench-notebooks.m118",
   "type": "gcloud",
   "uri": "us-docker.pkg.dev/deeplearning-platform-release/gcr.io/workbench-notebooks:m118"
  },
  "kernelspec": {
   "display_name": "Python 3 (ipykernel) (Local)",
   "language": "python",
   "name": "conda-root-py"
  },
  "language_info": {
   "codemirror_mode": {
    "name": "ipython",
    "version": 3
   },
   "file_extension": ".py",
   "mimetype": "text/x-python",
   "name": "python",
   "nbconvert_exporter": "python",
   "pygments_lexer": "ipython3",
   "version": "3.10.13"
  }
 },
 "nbformat": 4,
 "nbformat_minor": 5
}
